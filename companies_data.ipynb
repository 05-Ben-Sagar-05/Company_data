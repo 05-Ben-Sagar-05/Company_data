{
 "cells": [
  {
   "cell_type": "code",
   "execution_count": 1,
   "id": "00f0a874-4d39-4514-afd6-2d46273e717c",
   "metadata": {},
   "outputs": [
    {
     "name": "stdout",
     "output_type": "stream",
     "text": [
      "Requirement already satisfied: requests in c:\\users\\sagar joshi\\appdata\\local\\programs\\python\\python311\\lib\\site-packages (2.31.0)\n",
      "Requirement already satisfied: beautifulsoup4 in c:\\users\\sagar joshi\\appdata\\local\\programs\\python\\python311\\lib\\site-packages (4.12.3)\n",
      "Requirement already satisfied: pandas in c:\\users\\sagar joshi\\appdata\\local\\programs\\python\\python311\\lib\\site-packages (2.1.1)\n",
      "Requirement already satisfied: charset-normalizer<4,>=2 in c:\\users\\sagar joshi\\appdata\\local\\programs\\python\\python311\\lib\\site-packages (from requests) (3.3.0)\n",
      "Requirement already satisfied: idna<4,>=2.5 in c:\\users\\sagar joshi\\appdata\\local\\programs\\python\\python311\\lib\\site-packages (from requests) (3.4)\n",
      "Requirement already satisfied: urllib3<3,>=1.21.1 in c:\\users\\sagar joshi\\appdata\\local\\programs\\python\\python311\\lib\\site-packages (from requests) (2.0.6)\n",
      "Requirement already satisfied: certifi>=2017.4.17 in c:\\users\\sagar joshi\\appdata\\local\\programs\\python\\python311\\lib\\site-packages (from requests) (2023.7.22)\n",
      "Requirement already satisfied: soupsieve>1.2 in c:\\users\\sagar joshi\\appdata\\local\\programs\\python\\python311\\lib\\site-packages (from beautifulsoup4) (2.5)\n",
      "Requirement already satisfied: numpy>=1.23.2 in c:\\users\\sagar joshi\\appdata\\local\\programs\\python\\python311\\lib\\site-packages (from pandas) (1.26.0)\n",
      "Requirement already satisfied: python-dateutil>=2.8.2 in c:\\users\\sagar joshi\\appdata\\local\\programs\\python\\python311\\lib\\site-packages (from pandas) (2.8.2)\n",
      "Requirement already satisfied: pytz>=2020.1 in c:\\users\\sagar joshi\\appdata\\local\\programs\\python\\python311\\lib\\site-packages (from pandas) (2023.3.post1)\n",
      "Requirement already satisfied: tzdata>=2022.1 in c:\\users\\sagar joshi\\appdata\\local\\programs\\python\\python311\\lib\\site-packages (from pandas) (2023.3)\n",
      "Requirement already satisfied: six>=1.5 in c:\\users\\sagar joshi\\appdata\\local\\programs\\python\\python311\\lib\\site-packages (from python-dateutil>=2.8.2->pandas) (1.16.0)\n",
      "Note: you may need to restart the kernel to use updated packages.\n"
     ]
    },
    {
     "name": "stderr",
     "output_type": "stream",
     "text": [
      "\n",
      "[notice] A new release of pip is available: 23.3 -> 24.2\n",
      "[notice] To update, run: python.exe -m pip install --upgrade pip\n"
     ]
    }
   ],
   "source": [
    "pip install requests beautifulsoup4 pandas"
   ]
  },
  {
   "cell_type": "code",
   "execution_count": 2,
   "id": "b7b001a4-f79a-4485-8673-d0c213900189",
   "metadata": {},
   "outputs": [],
   "source": [
    "import requests\n",
    "from bs4 import BeautifulSoup\n",
    "import pandas as pd\n"
   ]
  },
  {
   "cell_type": "code",
   "execution_count": 3,
   "id": "d389c2c2-1ea5-482a-bdbf-c26d718a21fd",
   "metadata": {},
   "outputs": [
    {
     "name": "stdout",
     "output_type": "stream",
     "text": [
      "Requirement already satisfied: requests in c:\\users\\sagar joshi\\appdata\\local\\programs\\python\\python311\\lib\\site-packages (2.31.0)\n",
      "Requirement already satisfied: charset-normalizer<4,>=2 in c:\\users\\sagar joshi\\appdata\\local\\programs\\python\\python311\\lib\\site-packages (from requests) (3.3.0)\n",
      "Requirement already satisfied: idna<4,>=2.5 in c:\\users\\sagar joshi\\appdata\\local\\programs\\python\\python311\\lib\\site-packages (from requests) (3.4)\n",
      "Requirement already satisfied: urllib3<3,>=1.21.1 in c:\\users\\sagar joshi\\appdata\\local\\programs\\python\\python311\\lib\\site-packages (from requests) (2.0.6)\n",
      "Requirement already satisfied: certifi>=2017.4.17 in c:\\users\\sagar joshi\\appdata\\local\\programs\\python\\python311\\lib\\site-packages (from requests) (2023.7.22)\n",
      "Note: you may need to restart the kernel to use updated packages.\n"
     ]
    },
    {
     "name": "stderr",
     "output_type": "stream",
     "text": [
      "\n",
      "[notice] A new release of pip is available: 23.3 -> 24.2\n",
      "[notice] To update, run: python.exe -m pip install --upgrade pip\n"
     ]
    }
   ],
   "source": [
    "pip install requests"
   ]
  },
  {
   "cell_type": "code",
   "execution_count": 11,
   "id": "88d63fd8-5112-489e-97b5-1f46d6225cf2",
   "metadata": {},
   "outputs": [
    {
     "name": "stdout",
     "output_type": "stream",
     "text": [
      "Data saved to companies_data.csv\n"
     ]
    }
   ],
   "source": [
    "import requests\n",
    "from bs4 import BeautifulSoup\n",
    "import pandas as pd\n",
    "import time\n",
    "\n",
    "\n",
    "url = \"https://www.yellowpages.com/search?search_terms=IT+Services&geo_location_terms=New+York\"\n",
    "\n",
    "# Send request to get the page content\n",
    "response = requests.get(url)\n",
    "\n",
    "if response.status_code != 200:\n",
    "    print(f\"Failed to retrieve the page. Status code: {response.status_code}\")\n",
    "else:\n",
    "    soup = BeautifulSoup(response.text, 'html.parser')\n",
    "\n",
    "    companies = []\n",
    "\n",
    "    company_count = 0\n",
    "    max_companies = 50\n",
    "\n",
    "    for listing in soup.find_all('div', class_='result'):\n",
    "        if company_count >= max_companies:\n",
    "            break\n",
    "        \n",
    "        try:\n",
    "            name = listing.find('a', class_='business-name').text.strip()\n",
    "        except:\n",
    "            name = None\n",
    "\n",
    "        try:\n",
    "            website = listing.find('a', class_='track-visit-website')['href']\n",
    "        except:\n",
    "            website = None\n",
    "\n",
    "        try:\n",
    "            phone = listing.find('div', class_='phones phone primary').text.strip()\n",
    "        except:\n",
    "            phone = None\n",
    "\n",
    "        try:\n",
    "            address = listing.find('p', class_='adr').text.strip()\n",
    "        except:\n",
    "            address = None\n",
    "\n",
    "        try:\n",
    "            description = listing.find('div', class_='snippet').text.strip()\n",
    "        except:\n",
    "            description = None\n",
    "\n",
    "        try:\n",
    "            email = listing.find('a', href=lambda href: href and \"mailto:\" in href)['href'].replace(\"mailto:\", \"\")\n",
    "        except:\n",
    "            email = None\n",
    "\n",
    "        industry = \"IT Services\"  \n",
    "\n",
    "        \n",
    "        companies.append([name, website, phone, address, industry, description, email])\n",
    "\n",
    "        company_count += 1\n",
    "\n",
    "      \n",
    "        time.sleep(2)\n",
    "\n",
    "    df = pd.DataFrame(companies, columns=['Company Name', 'Website URL', 'Contact Number', 'Location/Address', 'Industry/Category', 'Description', 'Email Address'])\n",
    "    df.to_csv('companies_data.csv', index=False)\n",
    "\n",
    "    print(\"Data saved to companies_data.csv\")\n"
   ]
  },
  {
   "cell_type": "code",
   "execution_count": null,
   "id": "6d668d53-6da2-4b8a-9111-6fba0d231c71",
   "metadata": {},
   "outputs": [],
   "source": []
  }
 ],
 "metadata": {
  "kernelspec": {
   "display_name": "Python 3 (ipykernel)",
   "language": "python",
   "name": "python3"
  },
  "language_info": {
   "codemirror_mode": {
    "name": "ipython",
    "version": 3
   },
   "file_extension": ".py",
   "mimetype": "text/x-python",
   "name": "python",
   "nbconvert_exporter": "python",
   "pygments_lexer": "ipython3",
   "version": "3.11.1"
  }
 },
 "nbformat": 4,
 "nbformat_minor": 5
}
